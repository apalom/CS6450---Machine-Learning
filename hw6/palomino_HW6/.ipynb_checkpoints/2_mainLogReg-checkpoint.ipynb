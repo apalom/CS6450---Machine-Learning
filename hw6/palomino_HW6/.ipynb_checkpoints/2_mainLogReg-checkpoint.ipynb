{
 "cells": [
  {
   "cell_type": "code",
   "execution_count": 14,
   "metadata": {},
   "outputs": [
    {
     "name": "stdout",
     "output_type": "stream",
     "text": [
      "packages loaded\n"
     ]
    }
   ],
   "source": [
    "# import libraries\n",
    "import time as time\n",
    "import pandas as pd\n",
    "import numpy as np\n",
    "np.random.seed(42)\n",
    "import sys\n",
    "import os\n",
    "import os.path\n",
    "import itertools\n",
    "import matplotlib.pyplot as plt\n",
    "\n",
    "# import custom libraries\n",
    "module_path = os.path.abspath(os.path.join('..'))\n",
    "if module_path not in sys.path:\n",
    "    sys.path.append(module_path)\n",
    "\n",
    "from pkgs.loadData import *\n",
    "from pkgs.logRegAlgo import *\n",
    "from pkgs.results import *\n",
    "print('packages loaded')"
   ]
  },
  {
   "cell_type": "code",
   "execution_count": 15,
   "metadata": {},
   "outputs": [
    {
     "name": "stdout",
     "output_type": "stream",
     "text": [
      "Reading validation fold: 1\n",
      "   Adding training fold: data/csv-format/CVfolds/fold2.csv\n",
      "   Adding training fold: data/csv-format/CVfolds/fold3.csv\n",
      "   Adding training fold: data/csv-format/CVfolds/fold4.csv\n",
      "   Adding training fold: data/csv-format/CVfolds/fold5.csv\n",
      "Reading validation fold: 2\n",
      "   Adding training fold: data/csv-format/CVfolds/fold1.csv\n",
      "   Adding training fold: data/csv-format/CVfolds/fold3.csv\n",
      "   Adding training fold: data/csv-format/CVfolds/fold4.csv\n",
      "   Adding training fold: data/csv-format/CVfolds/fold5.csv\n",
      "Reading validation fold: 3\n",
      "   Adding training fold: data/csv-format/CVfolds/fold1.csv\n",
      "   Adding training fold: data/csv-format/CVfolds/fold2.csv\n",
      "   Adding training fold: data/csv-format/CVfolds/fold4.csv\n",
      "   Adding training fold: data/csv-format/CVfolds/fold5.csv\n",
      "Reading validation fold: 4\n",
      "   Adding training fold: data/csv-format/CVfolds/fold1.csv\n",
      "   Adding training fold: data/csv-format/CVfolds/fold2.csv\n",
      "   Adding training fold: data/csv-format/CVfolds/fold3.csv\n",
      "   Adding training fold: data/csv-format/CVfolds/fold5.csv\n",
      "Reading validation fold: 5\n",
      "   Adding training fold: data/csv-format/CVfolds/fold1.csv\n",
      "   Adding training fold: data/csv-format/CVfolds/fold2.csv\n",
      "   Adding training fold: data/csv-format/CVfolds/fold3.csv\n",
      "   Adding training fold: data/csv-format/CVfolds/fold4.csv\n",
      "\n",
      "Loaded 5-fold data\n",
      "Loaded training data\n",
      "Loaded testing data\n"
     ]
    }
   ],
   "source": [
    "# load data\n",
    "dataCV, dataTrn, dataTst = loadData('data/csv-format/CVfolds/','data/csv-format/train.csv','data/csv-format/test.csv')"
   ]
  },
  {
   "cell_type": "code",
   "execution_count": 17,
   "metadata": {},
   "outputs": [
    {
     "name": "stdout",
     "output_type": "stream",
     "text": [
      "-> Fold - 1 "
     ]
    },
    {
     "name": "stderr",
     "output_type": "stream",
     "text": [
      "C:\\Users\\Alex\\Documents\\GitHub\\CS6450 - Machine Learning\\hw6\\palomino_HW6\\pkgs\\logRegAlgo.py:76: RuntimeWarning: overflow encountered in exp\n",
      "  return 1/(1+np.exp(-z))\n",
      "C:\\Users\\Alex\\Documents\\GitHub\\CS6450 - Machine Learning\\hw6\\palomino_HW6\\pkgs\\logRegAlgo.py:91: RuntimeWarning: overflow encountered in exp\n",
      "  loss += np.log(1 + np.exp(-yi*wTdotxi))\n"
     ]
    },
    {
     "name": "stdout",
     "output_type": "stream",
     "text": [
      "-> Fold - 2 -> Fold - 3 -> Fold - 4 -> Fold - 5 \n",
      " -- Best Performance over CV Folds -- \n",
      "     Ep   lr     sig2       acc          obj\n",
      "1  10.0  1.0  10000.0  0.721973   880.348438\n",
      "2  10.0  1.0  10000.0  0.775785   746.696220\n",
      "3  10.0  1.0  10000.0  0.748879   704.953241\n",
      "4  10.0  1.0  10000.0  0.755605   671.518667\n",
      "5  10.0  1.0  10000.0  0.726457  1128.980010\n",
      "\n",
      "Early stop: None\n",
      "\n",
      "Runtime (m): 0.117\n",
      "\n",
      "Average CV accuracy: 0.7457\n"
     ]
    }
   ],
   "source": [
    "def runLogReg_CV(dataCV, es):\n",
    "    # Using current time \n",
    "    t_st = time.time()\n",
    "    \n",
    "    lrs = [10**0, 10**-1, 10**-2, 10**-3, 10**-4, 10**-5]; #intiial learning rates\n",
    "    sig2s = [10**-1, 10**0, 10**1, 10**2, 10**3, 10**4,]; #initial tradeoffs\n",
    "    \n",
    "    hps = list(itertools.product(lrs, sig2s))\n",
    "    best_perf = pd.DataFrame(columns=['Ep','lr', 'sig2', 'acc', 'obj']); \n",
    "    T = 10;\n",
    "    \n",
    "    for f in dataCV:\n",
    "        print('-> Fold -', f, end=\" \")\n",
    "        # data prep for validation fold\n",
    "        dataVal = dataCV[f]['val'].to_numpy()\n",
    "        X_val = dataVal[:,1:]; X_val = np.hstack((X_val, np.ones((X_val.shape[0],1)))); # add bias\n",
    "        y_val = dataVal[:,0];            \n",
    "        # data fold for training\n",
    "        data = dataCV[f]['trn'];      \n",
    "        acc0 = 0; # reset accuracy\n",
    "        \n",
    "        for lr, sig2 in hps: # for learning rates and tradeoff combinations\n",
    "            \n",
    "            # No early stop threshold for CV: es = 'None'\n",
    "            # CV training\n",
    "            w_best, _, lc, obj, losses = logReg(data, lr, sig2, es, T)\n",
    "            # CV validation \n",
    "            acc_Val = accuracy(X_val, y_val, w_best) # accuracy(X,y,w):\n",
    "        \n",
    "            if acc_Val > acc0:\n",
    "                best_perf.loc[f] = [len(lc), lr, sig2, acc_Val, obj[-1]]\n",
    "                acc0 = acc_Val\n",
    "            \n",
    "    print('\\n -- Best Performance over CV Folds -- ')\n",
    "    print(best_perf)        \n",
    "    print('\\nEarly stop:', es)      \n",
    "    t_en = time.time()\n",
    "    t_run = np.round((t_en - t_st)/60,3)\n",
    "    print('\\nRuntime (m):', t_run)\n",
    "    \n",
    "    return best_perf, t_run\n",
    "\n",
    "# repeat cross validation\n",
    "repeats = 3;\n",
    "reps = {}; runtimes = {}; \n",
    "es = 'None'; avgObj = 0; avgAcc  = 0;\n",
    "for r in range(repeats):\n",
    "    # input dataCV and early stopping factor\n",
    "    logReg_bestHP, t_run = runLogReg_CV(dataCV, es);\n",
    "    avgObj += logReg_bestHP.obj.mean();\n",
    "    avgAcc += logReg_bestHP.acc.mean();\n",
    "    reps[r] = logReg_bestHP;\n",
    "    runtimes[r] = t_run    \n",
    "\n",
    "# average cross validation objective value for early stopping definition\n",
    "avgObj = int(avgObj/repeats)\n",
    "avgCVacc = avgAcc/repeats\n",
    "\n",
    "print('\\nAverage CV accuracy: {:.4f}'.format(avgCVacc))"
   ]
  },
  {
   "cell_type": "code",
   "execution_count": 22,
   "metadata": {},
   "outputs": [
    {
     "name": "stdout",
     "output_type": "stream",
     "text": [
      "\n",
      "    Early stop - epoch 10\n",
      "    Objective values 847.893 -> 842.725\n",
      "\n",
      "Train accuracy: 0.8278\n"
     ]
    },
    {
     "data": {
      "image/png": "[encoded data removed]",
      "text/plain": [
       "<Figure size 1000x400 with 1 Axes>"
      ]
     },
     "metadata": {},
     "output_type": "display_data"
    }
   ],
   "source": [
    "#%% train with best HP\n",
    "def runLogReg_trn(dataTrn, lr, sig2, tau, T):\n",
    "    \n",
    "    w_best, best_acc, lc, obj, losses = logReg(dataTrn, lr, sig2, tau, T)\n",
    "    \n",
    "    print('\\nTrain accuracy: {:.4f}'.format(best_acc))\n",
    "    \n",
    "    return w_best, best_acc, lc, obj, losses\n",
    "\n",
    "bestLr = 0.1; bestSig2 = 10000; \n",
    "# early stop condition = 1% of avg. CV objective\n",
    "bestTau = int(0.01*avgObj); T = 100;\n",
    "\n",
    "logReg_Trn = {}\n",
    "logReg_Trn['w'], logReg_Trn['Acc'], logReg_Trn['LC'], logReg_Trn['Obj'], logReg_Trn['Losses'] = runLogReg_trn(dataTrn, bestLr, bestSig2, bestTau, T)\n",
    " \n",
    "plot_loss(logReg_Trn['Losses'], bestLr, bestSig2, bestTau, 'logReg_trnLoss.pdf')"
   ]
  },
  {
   "cell_type": "code",
   "execution_count": 23,
   "metadata": {},
   "outputs": [
    {
     "name": "stdout",
     "output_type": "stream",
     "text": [
      "\n",
      "Test accuracy: 0.780\n"
     ]
    }
   ],
   "source": [
    "#% test with best weight vector\n",
    "def runLogReg_tst(dataTst, w):\n",
    "    \n",
    "    data_np = dataTst.to_numpy() # split data\n",
    "    y = data_np[:,0]\n",
    "    X = data_np[:,1:]\n",
    "    X = np.hstack((X, np.ones((X.shape[0],1)))) # add bias\n",
    "    \n",
    "    acc = accuracy(X,y,w);\n",
    "    \n",
    "    print('\\nTest accuracy: {:.3f}'.format(acc))\n",
    "    \n",
    "    return acc\n",
    "\n",
    "tstAcc = runLogReg_tst(dataTst, logReg_Trn['w'])"
   ]
  }
 ],
 "metadata": {
  "kernelspec": {
   "display_name": "Python 3",
   "language": "python",
   "name": "python3"
  },
  "language_info": {
   "codemirror_mode": {
    "name": "ipython",
    "version": 3
   },
   "file_extension": ".py",
   "mimetype": "text/x-python",
   "name": "python",
   "nbconvert_exporter": "python",
   "pygments_lexer": "ipython3",
   "version": "3.7.6"
  }
 },
 "nbformat": 4,
 "nbformat_minor": 4
}
