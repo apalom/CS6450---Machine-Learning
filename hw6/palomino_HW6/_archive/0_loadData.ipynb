{
 "cells": [
  {
   "cell_type": "code",
   "execution_count": 6,
   "metadata": {},
   "outputs": [],
   "source": [
    "# import libraries\n",
    "import time as time\n",
    "import pandas as pd\n",
    "import numpy as np\n",
    "np.random.seed(42)\n",
    "import os\n",
    "import os.path\n",
    "import itertools\n",
    "import matplotlib.pyplot as plt"
   ]
  },
  {
   "cell_type": "code",
   "execution_count": 5,
   "metadata": {},
   "outputs": [
    {
     "name": "stdout",
     "output_type": "stream",
     "text": [
      "Reading validation fold: 1\n",
      "   Adding training fold: data/csv-format/CVfolds/fold2.csv\n",
      "   Adding training fold: data/csv-format/CVfolds/fold3.csv\n",
      "   Adding training fold: data/csv-format/CVfolds/fold4.csv\n",
      "   Adding training fold: data/csv-format/CVfolds/fold5.csv\n",
      "Reading validation fold: 2\n",
      "   Adding training fold: data/csv-format/CVfolds/fold1.csv\n",
      "   Adding training fold: data/csv-format/CVfolds/fold3.csv\n",
      "   Adding training fold: data/csv-format/CVfolds/fold4.csv\n",
      "   Adding training fold: data/csv-format/CVfolds/fold5.csv\n",
      "Reading validation fold: 3\n",
      "   Adding training fold: data/csv-format/CVfolds/fold1.csv\n",
      "   Adding training fold: data/csv-format/CVfolds/fold2.csv\n",
      "   Adding training fold: data/csv-format/CVfolds/fold4.csv\n",
      "   Adding training fold: data/csv-format/CVfolds/fold5.csv\n",
      "Reading validation fold: 4\n",
      "   Adding training fold: data/csv-format/CVfolds/fold1.csv\n",
      "   Adding training fold: data/csv-format/CVfolds/fold2.csv\n",
      "   Adding training fold: data/csv-format/CVfolds/fold3.csv\n",
      "   Adding training fold: data/csv-format/CVfolds/fold5.csv\n",
      "Reading validation fold: 5\n",
      "   Adding training fold: data/csv-format/CVfolds/fold1.csv\n",
      "   Adding training fold: data/csv-format/CVfolds/fold2.csv\n",
      "   Adding training fold: data/csv-format/CVfolds/fold3.csv\n",
      "   Adding training fold: data/csv-format/CVfolds/fold4.csv\n",
      "\n",
      "Loaded 5-fold data\n",
      "Loaded training data\n",
      "Loaded testing data\n"
     ]
    }
   ],
   "source": [
    "#%% load cross-validation and training data\n",
    "\n",
    "def loadData(path_to_CV, path_to_Trn, path_to_Tst):\n",
    "\n",
    "    n_folds = len([f for f in os.listdir(path_to_CV)if os.path.isfile(os.path.join(path_to_CV, f))])\n",
    "    data = {}; X = {}; y = {};\n",
    "    for fold in range(1,n_folds+1):\n",
    "        print('Reading validation fold:', fold)\n",
    "        data[fold] = {}\n",
    "        path_fold = path_to_CV+'fold'+str(fold)+'.csv'\n",
    "        data[fold]['val'] = pd.read_csv(path_fold, header=None)\n",
    "        data[fold]['val'].columns = np.arange(0,data[fold]['val'].shape[1])\n",
    "        data[fold]['val'] = data[fold]['val'].rename(columns={0: 'Label'}) \n",
    "        \n",
    "        # remove validation fold\n",
    "        trn_folds = np.delete(np.arange(1,n_folds+1),fold-1)\n",
    "        data[fold]['trn'] = pd.DataFrame()\n",
    "        # read in training folds\n",
    "        for f in trn_folds:            \n",
    "            path_trnFold = path_to_CV+'fold'+str(f)+'.csv'\n",
    "            print('   Adding training fold:', path_trnFold)\n",
    "            data[fold]['trn'] = data[fold]['trn'].append(pd.read_csv(path_trnFold, header=None))\n",
    "\n",
    "        # rename column 0 to label | reset index (remove duplicates from folds)\n",
    "        data[fold]['trn'] = data[fold]['trn'].rename(columns={0: 'Label'})\n",
    "        data[fold]['trn'].index = np.arange(data[fold]['trn'].shape[0])\n",
    "    \n",
    "    print('\\nLoaded {}-fold data'.format(n_folds))\n",
    "    \n",
    "    dataTrain = pd.read_csv(path_to_Trn, header=None)\n",
    "    dataTrain = dataTrain.rename(columns={0: 'Label'}) \n",
    "    print('Loaded training data')\n",
    "    \n",
    "    dataTest = pd.read_csv(path_to_Tst, header=None)\n",
    "    dataTest = dataTest.rename(columns={0: 'Label'}) \n",
    "    print('Loaded testing data')\n",
    "    \n",
    "    return data, dataTrain, dataTest\n",
    "\n",
    "dataCV, dataTrn, dataTst = loadData('data/csv-format/CVfolds/','data/csv-format/train.csv','data/csv-format/test.csv')"
   ]
  },
  {
   "cell_type": "code",
   "execution_count": null,
   "metadata": {},
   "outputs": [],
   "source": []
  }
 ],
 "metadata": {
  "kernelspec": {
   "display_name": "Python 3",
   "language": "python",
   "name": "python3"
  },
  "language_info": {
   "codemirror_mode": {
    "name": "ipython",
    "version": 3
   },
   "file_extension": ".py",
   "mimetype": "text/x-python",
   "name": "python",
   "nbconvert_exporter": "python",
   "pygments_lexer": "ipython3",
   "version": "3.7.6"
  }
 },
 "nbformat": 4,
 "nbformat_minor": 4
}
