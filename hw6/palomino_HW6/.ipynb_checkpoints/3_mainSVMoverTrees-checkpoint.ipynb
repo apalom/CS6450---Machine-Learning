{
 "cells": [
  {
   "cell_type": "code",
   "execution_count": 1,
   "metadata": {},
   "outputs": [
    {
     "name": "stdout",
     "output_type": "stream",
     "text": [
      "packages loaded\n"
     ]
    }
   ],
   "source": [
    "# import libraries\n",
    "import time as time\n",
    "import pandas as pd\n",
    "import numpy as np\n",
    "np.random.seed(42)\n",
    "import sys\n",
    "import os\n",
    "import os.path\n",
    "import itertools\n",
    "import matplotlib.pyplot as plt\n",
    "\n",
    "# import custom libraries\n",
    "module_path = os.path.abspath(os.path.join('..'))\n",
    "if module_path not in sys.path:\n",
    "    sys.path.append(module_path)\n",
    "\n",
    "from pkgs.loadData import *\n",
    "from pkgs.id3Algo import *\n",
    "from pkgs.svmAlgo import *\n",
    "from pkgs.results import *\n",
    "print('packages loaded')"
   ]
  },
  {
   "cell_type": "code",
   "execution_count": 2,
   "metadata": {},
   "outputs": [
    {
     "name": "stdout",
     "output_type": "stream",
     "text": [
      "Reading validation fold: 1\n",
      "   Adding training fold: data/csv-format/CVfolds/fold2.csv\n",
      "   Adding training fold: data/csv-format/CVfolds/fold3.csv\n",
      "   Adding training fold: data/csv-format/CVfolds/fold4.csv\n",
      "   Adding training fold: data/csv-format/CVfolds/fold5.csv\n",
      "Reading validation fold: 2\n",
      "   Adding training fold: data/csv-format/CVfolds/fold1.csv\n",
      "   Adding training fold: data/csv-format/CVfolds/fold3.csv\n",
      "   Adding training fold: data/csv-format/CVfolds/fold4.csv\n",
      "   Adding training fold: data/csv-format/CVfolds/fold5.csv\n",
      "Reading validation fold: 3\n",
      "   Adding training fold: data/csv-format/CVfolds/fold1.csv\n",
      "   Adding training fold: data/csv-format/CVfolds/fold2.csv\n",
      "   Adding training fold: data/csv-format/CVfolds/fold4.csv\n",
      "   Adding training fold: data/csv-format/CVfolds/fold5.csv\n",
      "Reading validation fold: 4\n",
      "   Adding training fold: data/csv-format/CVfolds/fold1.csv\n",
      "   Adding training fold: data/csv-format/CVfolds/fold2.csv\n",
      "   Adding training fold: data/csv-format/CVfolds/fold3.csv\n",
      "   Adding training fold: data/csv-format/CVfolds/fold5.csv\n",
      "Reading validation fold: 5\n",
      "   Adding training fold: data/csv-format/CVfolds/fold1.csv\n",
      "   Adding training fold: data/csv-format/CVfolds/fold2.csv\n",
      "   Adding training fold: data/csv-format/CVfolds/fold3.csv\n",
      "   Adding training fold: data/csv-format/CVfolds/fold4.csv\n",
      "\n",
      "Loaded 5-fold data\n",
      "Loaded training data\n",
      "Loaded testing data\n"
     ]
    }
   ],
   "source": [
    "# load data\n",
    "dataCV, dataTrn, dataTst = loadData('data/csv-format/CVfolds/','data/csv-format/train.csv','data/csv-format/test.csv')"
   ]
  },
  {
   "cell_type": "code",
   "execution_count": 3,
   "metadata": {},
   "outputs": [
    {
     "name": "stdout",
     "output_type": "stream",
     "text": [
      "\n",
      "Max Depth: 1\n",
      ". . . . . . . . . . . . . . . . . . . . \n",
      "Max Depth: 2\n",
      ". . . . . . . . . . . . . . . . . . . . \n",
      "Max Depth: 4\n",
      ". . . . . . . . . . . . . . . . . . . . \n",
      "Max Depth: 8\n",
      ". . . . . . . . . . . . . . . . . . . . \n",
      "Runtime (m): 3.002\n"
     ]
    }
   ],
   "source": [
    "#%% use training set to build decision trees\n",
    "trees = {}      \n",
    "depths = [1,2,4,8]\n",
    "t_st = time.time()\n",
    "\n",
    "for maxDepth in depths:\n",
    "    trees[maxDepth] = {}\n",
    "    print('\\nMax Depth:', maxDepth)\n",
    "    \n",
    "    for i in np.arange(200):\n",
    "        df = dataTrn.sample(int(0.1*len(dataTrn)), replace=True)\n",
    "        \n",
    "        # input id3(data, maxDepth, init_depth)\n",
    "        trees[maxDepth][i] = id3(df.values, maxDepth, 0)\n",
    "        \n",
    "        if np.mod(i,10) == 0:\n",
    "            print('.', end=\" \") \n",
    "        \n",
    "t_en = time.time()\n",
    "t_RunTrees = np.round((t_en - t_st)/60,3)\n",
    "print('\\nRuntime (m):', t_RunTrees)"
   ]
  },
  {
   "cell_type": "code",
   "execution_count": 4,
   "metadata": {},
   "outputs": [
    {
     "name": "stdout",
     "output_type": "stream",
     "text": [
      "Ensemble Training Data\n",
      "\n",
      "Ensemble Testing Data\n",
      "\n",
      "Ensemble Cross-Validation Data\n",
      "\n",
      "-> Fold: 1 -> Fold: 2 -> Fold: 3 -> Fold: 4 -> Fold: 5 \n",
      "\n",
      "data transform complete\n"
     ]
    }
   ],
   "source": [
    "#% transform data with decision trees\n",
    "print('Ensemble Training Data')\n",
    "dataTrfm_trn = transformData(dataTrn, trees, depths)\n",
    "print('\\nEnsemble Testing Data')\n",
    "dataTrfm_tst = transformData(dataTst, trees, depths)\n",
    "\n",
    "print('\\nEnsemble Cross-Validation Data\\n')\n",
    "dataTrfm_CV = {}\n",
    "for f in dataCV:\n",
    "    print('-> Fold:', f, end=\" \")\n",
    "    dataTrfm_CV[f] = {}\n",
    "    #print('-Training')\n",
    "    dataTrfm_CV[f]['trn'] = transformData(dataCV[f]['trn'], trees, depths)\n",
    "    #print('\\n-Validation')\n",
    "    dataTrfm_CV[f]['val'] = transformData(dataCV[f]['val'], trees, depths)\n",
    "    \n",
    "print('\\n\\ndata transform complete')"
   ]
  },
  {
   "cell_type": "code",
   "execution_count": 5,
   "metadata": {},
   "outputs": [
    {
     "name": "stdout",
     "output_type": "stream",
     "text": [
      "\n",
      "TRIAL 0\n",
      "->Fold - 1 ->Fold - 2 ->Fold - 3 ->Fold - 4 ->Fold - 5 \n",
      " -- Best Performance over CV Folds -- \n",
      "     Ep    d       lr       C       acc            obj\n",
      "1  10.0  8.0  0.00100    10.0  0.896861    4349.256971\n",
      "2  10.0  8.0  0.00001  1000.0  0.899103  355266.695349\n",
      "3  10.0  8.0  0.00100    10.0  0.908072    4300.645015\n",
      "4  10.0  8.0  0.00010  1000.0  0.872197  430918.236372\n",
      "5  10.0  8.0  0.00010   100.0  0.896861   31997.605066\n",
      "\n",
      "Early stop: None\n",
      "\n",
      "Runtime (m): 1.674\n",
      "\n",
      "TRIAL 1\n",
      "->Fold - 1 ->Fold - 2 ->Fold - 3 ->Fold - 4 ->Fold - 5 \n",
      " -- Best Performance over CV Folds -- \n",
      "     Ep    d       lr       C       acc            obj\n",
      "1  10.0  8.0  0.00100    10.0  0.896861    4393.480913\n",
      "2  10.0  8.0  0.00010   100.0  0.890135   34389.116979\n",
      "3  10.0  8.0  0.00001   100.0  0.908072   43837.339148\n",
      "4  10.0  8.0  0.00010   100.0  0.865471   31329.473216\n",
      "5  10.0  8.0  0.00001  1000.0  0.894619  307307.560172\n",
      "\n",
      "Early stop: None\n",
      "\n",
      "Runtime (m): 1.663\n",
      "\n",
      "TRIAL 2\n",
      "->Fold - 1 ->Fold - 2 ->Fold - 3 ->Fold - 4 ->Fold - 5 \n",
      " -- Best Performance over CV Folds -- \n",
      "     Ep    d       lr       C       acc            obj\n",
      "1  10.0  8.0  0.00010   100.0  0.899103   35928.068280\n",
      "2  10.0  8.0  0.00100   100.0  0.896861   43973.145714\n",
      "3  10.0  8.0  0.00100    10.0  0.905830    4354.083877\n",
      "4  10.0  8.0  0.00100   100.0  0.876682   45337.846212\n",
      "5  10.0  8.0  0.00001  1000.0  0.890135  310797.832957\n",
      "\n",
      "Early stop: None\n",
      "\n",
      "Runtime (m): 1.695\n",
      "\n",
      "Average CV accuracy: 0.8931\n"
     ]
    }
   ],
   "source": [
    "#% run SVM over trees ensemble\n",
    "def runSVMid3_CV(dataCV, depths, es):\n",
    "    # Using current time \n",
    "    t_st = time.time()\n",
    "    \n",
    "    lrs = [10**0, 10**-1, 10**-2, 10**-3, 10**-4, 10**-5]; #intiial learning rates\n",
    "    Cs = [10**3, 10**2, 10**1, 10**0, 10**-1, 10**-2]; #initial tradeoffs\n",
    "    #lrs = [0.0001]; Cs = [1000]\n",
    "    \n",
    "    hps = list(itertools.product(lrs, Cs))\n",
    "    best_perf = pd.DataFrame(columns=['Ep','d','lr', 'C', 'acc', 'obj']); \n",
    "    T = 10;\n",
    "        \n",
    "    for f in dataCV:\n",
    "        print('-> Fold', f, end=\" \")\n",
    "        \n",
    "        for d in depths:    \n",
    "            \n",
    "            dataVal = dataCV[f]['val'][d] # validation data folds and depths            \n",
    "            data = pd.DataFrame(dataCV[f]['trn'][d]) # training data folds and depths\n",
    "\n",
    "            acc0 = 0; # reset accuracy\n",
    "            \n",
    "            for lr, C in hps: # for learning rates and tradeoff combinations            \n",
    "                \n",
    "                # CV training\n",
    "                w_best, _, lc, obj, losses = svm(data, lr, C, es, T)\n",
    "                # CV validation\n",
    "                X = dataVal[:,1:]; X = np.hstack((X, np.ones((X.shape[0],1)))); # add bias here b/c Val doesn't go to SVM\n",
    "                y = dataVal[:,0];             \n",
    "                acc_Val = accuracy(X,y,w_best) # accuracy(X,y,w):               \n",
    "                \n",
    "                if acc_Val > acc0: # update best performance\n",
    "                    best_perf.loc[f] = [len(lc), d, lr, C, acc_Val, obj[-1]]\n",
    "                    acc0 = acc_Val\n",
    "            \n",
    "    print('\\n -- Best Performance over CV Folds -- ')\n",
    "    print(best_perf)        \n",
    "    print('\\nEarly stop:', es)      \n",
    "    t_en = time.time()\n",
    "    t_run = np.round((t_en - t_st)/60,3)\n",
    "    print('\\nRuntime (m):', t_run)\n",
    "    \n",
    "    return best_perf, t_run\n",
    "\n",
    "# repeat cross validation\n",
    "repeats = 3;\n",
    "reps = {}; runtimes = {}; \n",
    "es = 'None'; avgObj = 0; avgAcc  = 0;\n",
    "for r in range(repeats):\n",
    "    # input dataCV and early stopping factor\n",
    "    print('\\nTRIAL', r)\n",
    "    id3SVM_bestHP, t_run = runSVMid3_CV(dataTrfm_CV, depths, es);\n",
    "    avgObj += id3SVM_bestHP.obj.mean();\n",
    "    avgAcc += id3SVM_bestHP.acc.mean();\n",
    "    reps[r] = id3SVM_bestHP;\n",
    "    runtimes[r] = t_run    \n",
    "\n",
    "# average cross validation objective value for early stopping definition\n",
    "avgObj = int(avgObj/repeats)\n",
    "avgCVacc = avgAcc/repeats\n",
    "\n",
    "print('\\nAverage CV accuracy: {:.4f}'.format(avgCVacc))"
   ]
  },
  {
   "cell_type": "code",
   "execution_count": 14,
   "metadata": {},
   "outputs": [
    {
     "ename": "NameError",
     "evalue": "name 'bestDepth' is not defined",
     "output_type": "error",
     "traceback": [
      "\u001b[1;31m---------------------------------------------------------------------------\u001b[0m",
      "\u001b[1;31mNameError\u001b[0m                                 Traceback (most recent call last)",
      "\u001b[1;32m<ipython-input-14-1e890358d74c>\u001b[0m in \u001b[0;36m<module>\u001b[1;34m\u001b[0m\n\u001b[0;32m     15\u001b[0m \u001b[1;33m\u001b[0m\u001b[0m\n\u001b[0;32m     16\u001b[0m \u001b[0msvmID3_Trn\u001b[0m \u001b[1;33m=\u001b[0m \u001b[1;33m{\u001b[0m\u001b[1;33m}\u001b[0m\u001b[1;33m\u001b[0m\u001b[1;33m\u001b[0m\u001b[0m\n\u001b[1;32m---> 17\u001b[1;33m \u001b[0msvmID3_Trn\u001b[0m\u001b[1;33m[\u001b[0m\u001b[1;34m'w'\u001b[0m\u001b[1;33m]\u001b[0m\u001b[1;33m,\u001b[0m \u001b[0msvmID3_Trn\u001b[0m\u001b[1;33m[\u001b[0m\u001b[1;34m'Acc'\u001b[0m\u001b[1;33m]\u001b[0m\u001b[1;33m,\u001b[0m \u001b[0msvmID3_Trn\u001b[0m\u001b[1;33m[\u001b[0m\u001b[1;34m'LC'\u001b[0m\u001b[1;33m]\u001b[0m\u001b[1;33m,\u001b[0m \u001b[0msvmID3_Trn\u001b[0m\u001b[1;33m[\u001b[0m\u001b[1;34m'Obj'\u001b[0m\u001b[1;33m]\u001b[0m\u001b[1;33m,\u001b[0m \u001b[0msvmID3_Trn\u001b[0m\u001b[1;33m[\u001b[0m\u001b[1;34m'Losses'\u001b[0m\u001b[1;33m]\u001b[0m \u001b[1;33m=\u001b[0m \u001b[0mrunSVMid3_trn\u001b[0m\u001b[1;33m(\u001b[0m\u001b[0mdataTrfm_trn\u001b[0m\u001b[1;33m[\u001b[0m\u001b[0mbestDepth\u001b[0m\u001b[1;33m]\u001b[0m\u001b[1;33m,\u001b[0m \u001b[0mbestLr\u001b[0m\u001b[1;33m,\u001b[0m \u001b[0mbestC\u001b[0m\u001b[1;33m,\u001b[0m \u001b[0mbestTau\u001b[0m\u001b[1;33m,\u001b[0m \u001b[0mT\u001b[0m\u001b[1;33m)\u001b[0m\u001b[1;33m\u001b[0m\u001b[1;33m\u001b[0m\u001b[0m\n\u001b[0m\u001b[0;32m     18\u001b[0m \u001b[1;33m\u001b[0m\u001b[0m\n\u001b[0;32m     19\u001b[0m \u001b[0mplot_loss\u001b[0m\u001b[1;33m(\u001b[0m\u001b[0msvmID3_Trn\u001b[0m\u001b[1;33m[\u001b[0m\u001b[1;34m'Losses'\u001b[0m\u001b[1;33m]\u001b[0m\u001b[1;33m,\u001b[0m \u001b[0mbestLr\u001b[0m\u001b[1;33m,\u001b[0m \u001b[0mbestC\u001b[0m\u001b[1;33m,\u001b[0m \u001b[0mbestTau\u001b[0m\u001b[1;33m,\u001b[0m \u001b[1;34m'svmID3_trnLoss.pdf'\u001b[0m\u001b[1;33m)\u001b[0m\u001b[1;33m\u001b[0m\u001b[1;33m\u001b[0m\u001b[0m\n",
      "\u001b[1;31mNameError\u001b[0m: name 'bestDepth' is not defined"
     ]
    }
   ],
   "source": [
    "#%% train with best HP\n",
    "\n",
    "def runSVMid3_trn(dataTrn, lr, C, tau, T):\n",
    "    \n",
    "    dataTrn = pd.DataFrame(dataTrn)\n",
    "    w_best, best_acc, lc, obj, losses = svm(dataTrn, lr, C, tau, T)\n",
    "    \n",
    "    print('\\nTrain accuracy: {:.4f}'.format(best_acc))\n",
    "        \n",
    "    return w_best, best_acc, lc, obj, losses\n",
    "\n",
    "bestLr = 0.001; bestC = 10; bestDepth = 8;\n",
    "# early stop condition = 1% of avg. CV objective\n",
    "bestTau = int(0.01*avgObj); T = 100;\n",
    "\n",
    "svmID3_Trn = {}\n",
    "svmID3_Trn['w'], svmID3_Trn['Acc'], svmID3_Trn['LC'], svmID3_Trn['Obj'], svmID3_Trn['Losses'] = runSVMid3_trn(dataTrfm_trn[bestDepth], bestLr, bestC, bestTau, T)\n",
    "\n",
    "plot_loss(svmID3_Trn['Losses'], bestLr, bestC, bestTau, 'svmID3_trnLoss.pdf')\n"
   ]
  },
  {
   "cell_type": "code",
   "execution_count": null,
   "metadata": {},
   "outputs": [],
   "source": [
    "#%% test with best weight vector\n",
    "\n",
    "def runSVMid3_test(data, w):\n",
    "    \n",
    "    y = data[:,0]\n",
    "    X = data[:,1:]\n",
    "    X = np.hstack((X, np.ones((X.shape[0],1)))) # add bias\n",
    "    \n",
    "    acc = accuracy(X,y,w);\n",
    "    \n",
    "    print('Test accuracy: {:.4f}'.format(acc))\n",
    "    \n",
    "    return acc\n",
    "\n",
    "tstAcc = runSVMid3_test(dataTrfm_tst[bestDepth], svmID3_Trn['w'])"
   ]
  },
  {
   "cell_type": "code",
   "execution_count": 13,
   "metadata": {},
   "outputs": [
    {
     "data": {
      "text/plain": [
       "(1784, 201)"
      ]
     },
     "execution_count": 13,
     "metadata": {},
     "output_type": "execute_result"
    }
   ],
   "source": []
  }
 ],
 "metadata": {
  "kernelspec": {
   "display_name": "Python 3",
   "language": "python",
   "name": "python3"
  },
  "language_info": {
   "codemirror_mode": {
    "name": "ipython",
    "version": 3
   },
   "file_extension": ".py",
   "mimetype": "text/x-python",
   "name": "python",
   "nbconvert_exporter": "python",
   "pygments_lexer": "ipython3",
   "version": "3.7.6"
  }
 },
 "nbformat": 4,
 "nbformat_minor": 4
}
